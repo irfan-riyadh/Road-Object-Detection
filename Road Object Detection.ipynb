{
  "nbformat": 4,
  "nbformat_minor": 0,
  "metadata": {
    "colab": {
      "name": "irfan-object.ipynb",
      "provenance": [],
      "collapsed_sections": [],
      "authorship_tag": "ABX9TyNdF6Ps7G78/veetaHm3cGT",
      "include_colab_link": true
    },
    "kernelspec": {
      "display_name": "Python 3",
      "name": "python3"
    },
    "language_info": {
      "name": "python"
    }
  },
  "cells": [
    {
      "cell_type": "markdown",
      "metadata": {
        "id": "view-in-github",
        "colab_type": "text"
      },
      "source": [
        "<a href=\"https://colab.research.google.com/github/irfan-riyadh/Road-Object-Detection/blob/main/Road%20Object%20Detection.ipynb\" target=\"_parent\"><img src=\"https://colab.research.google.com/assets/colab-badge.svg\" alt=\"Open In Colab\"/></a>"
      ]
    },
    {
      "cell_type": "code",
      "metadata": {
        "id": "te5k8nAvpdJ7"
      },
      "source": [
        "import cv2\n",
        "import numpy as np\n",
        "import matplotlib.pyplot as plt\n",
        "from google.colab.patches import cv2_imshow"
      ],
      "execution_count": 123,
      "outputs": []
    },
    {
      "cell_type": "code",
      "metadata": {
        "id": "Ueli9dVSwUmY"
      },
      "source": [
        "# load the COCO class names\n",
        "with open('./object_detection_classes_coco.txt', 'r') as f:\n",
        "   class_names = f.read().split('\\n')\n",
        "  \n",
        "# get a different color array for each of the classes\n",
        "COLORS = np.random.uniform(0, 255, size=(len(class_names), 3))"
      ],
      "execution_count": 124,
      "outputs": []
    },
    {
      "cell_type": "code",
      "metadata": {
        "id": "tM5r9KOfxB8Z"
      },
      "source": [
        "model = cv2.dnn.readNet(model='./frozen_inference_graph.pb', config='./ssd_mobilenet_v2_coco_2018_03_29.pbtxt.txt', framework='TensorFlow')"
      ],
      "execution_count": 125,
      "outputs": []
    },
    {
      "cell_type": "code",
      "metadata": {
        "id": "n2W8xrP2xRXp"
      },
      "source": [
        "image = cv2.imread('./object7.jpg')\n",
        "image_height, image_width, _ = image.shape\n",
        "blob = cv2.dnn.blobFromImage(image=image, size=(300, 300), mean=(104, 117, 123), swapRB=True)\n",
        "model.setInput(blob)\n",
        "output = model.forward()"
      ],
      "execution_count": 126,
      "outputs": []
    },
    {
      "cell_type": "code",
      "metadata": {
        "id": "ac3ukPYSxfQk"
      },
      "source": [
        "for detection in output[0, 0, :, :]:\n",
        "\n",
        "   confidence = detection[2]\n",
        "\n",
        "   if confidence > .2:\n",
        "\n",
        "       class_id = detection[1]\n",
        "\n",
        "       class_name = class_names[int(class_id)-1]\n",
        "       color = COLORS[int(class_id)]\n",
        "       box_x = detection[3] * image_width\n",
        "       box_y = detection[4] * image_height\n",
        "       box_width = detection[5] * image_width\n",
        "       box_height = detection[6] * image_height\n",
        "       cv2.rectangle(image, (int(box_x), int(box_y)), (int(box_width), int(box_height)), color, thickness=3)\n",
        "       cv2.putText(image, class_name, (int(box_x), int(box_y - 5)), cv2.FONT_HERSHEY_PLAIN, 4, color, 3)\n",
        "#plt.imshow(image)\n",
        "cv2_imshow(image)\n",
        "cv2.imwrite('image_result.jpg', image)\n",
        "cv2.waitKey(0)\n",
        "cv2.destroyAllWindows()\n"
      ],
      "execution_count": null,
      "outputs": []
    }
  ]
}